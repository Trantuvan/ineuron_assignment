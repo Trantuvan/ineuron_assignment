{
 "cells": [
  {
   "cell_type": "markdown",
   "metadata": {},
   "source": [
    "1.1 Write a Python Program(with class concepts) to find the area of the triangle using the below formula:\n",
    "\n",
    "$area = (s*(s-a)*(s-b)*(s-c))^{0.5}$\n",
    "\n",
    "Function to take the length of the sides of triangle from user should be defined in the parent class and function to calculate the area should be defined in subclass"
   ]
  },
  {
   "cell_type": "code",
   "execution_count": 8,
   "metadata": {},
   "outputs": [],
   "source": [
    "import numpy as np"
   ]
  },
  {
   "cell_type": "code",
   "execution_count": 1,
   "metadata": {},
   "outputs": [],
   "source": [
    "class Polygon(object):\n",
    "    \n",
    "    def __init__(self,no_of_side):\n",
    "        self.no_of_side = no_of_side\n",
    "    \n",
    "    def inputSides(self):\n",
    "        self.sides = [float(input(\"Enter side \" +str(i+1)+\":\")) \n",
    "                      for i in range(self.no_of_side)]\n",
    "        \n",
    "    def dispSides(self):\n",
    "        for i in range(self.no_of_side):\n",
    "            print('Side {}: {}'.format(i+1,self.sides[i]))"
   ]
  },
  {
   "cell_type": "code",
   "execution_count": 38,
   "metadata": {},
   "outputs": [],
   "source": [
    "class Triangle(Polygon):\n",
    "    def __init__(self,no_of_side=3,*args):\n",
    "        super().__init__(no_of_side,*args)\n",
    "    \n",
    "    def area(self):\n",
    "#         half the perimeter\n",
    "        s = sum(self.sides)/2\n",
    "#         calculate the triangle area\n",
    "        self.area = np.sqrt(s*(s-self.sides[0])*(s-self.sides[1])\n",
    "                           *(s-self.sides[2]))\n",
    "        return self.area\n"
   ]
  },
  {
   "cell_type": "code",
   "execution_count": 40,
   "metadata": {},
   "outputs": [],
   "source": [
    "t = Triangle()"
   ]
  },
  {
   "cell_type": "code",
   "execution_count": 27,
   "metadata": {},
   "outputs": [
    {
     "name": "stdout",
     "output_type": "stream",
     "text": [
      "Enter side 1:24\n",
      "Enter side 2:30\n",
      "Enter side 3:18\n"
     ]
    }
   ],
   "source": [
    "t.inputSides()"
   ]
  },
  {
   "cell_type": "code",
   "execution_count": 28,
   "metadata": {},
   "outputs": [
    {
     "data": {
      "text/plain": [
       "216.0"
      ]
     },
     "execution_count": 28,
     "metadata": {},
     "output_type": "execute_result"
    }
   ],
   "source": [
    "t.area()"
   ]
  },
  {
   "cell_type": "markdown",
   "metadata": {},
   "source": [
    "1.2  Write a function filter_long_words() that takes a list of words and an integer n and returns the list of words that are longer than n"
   ]
  },
  {
   "cell_type": "code",
   "execution_count": 43,
   "metadata": {},
   "outputs": [],
   "source": [
    "# solution_1 using for loop\n",
    "def filter_long_words(n, string):\n",
    "    list_words = []\n",
    "    if len(string) > n:\n",
    "        for i in string.split():\n",
    "            list_words.append(i)\n",
    "    return list_words"
   ]
  },
  {
   "cell_type": "code",
   "execution_count": 45,
   "metadata": {},
   "outputs": [
    {
     "data": {
      "text/plain": [
       "['hello', 'world']"
      ]
     },
     "execution_count": 45,
     "metadata": {},
     "output_type": "execute_result"
    }
   ],
   "source": [
    "filter_long_words(5,'hello world')"
   ]
  },
  {
   "cell_type": "code",
   "execution_count": 49,
   "metadata": {},
   "outputs": [],
   "source": [
    "# aolution_2 using list comprehensive\n",
    "def filter_long_word(n, string):\n",
    "    list_words = [word for word in string.split() if len(string)>n]\n",
    "    return list_words"
   ]
  },
  {
   "cell_type": "code",
   "execution_count": 48,
   "metadata": {},
   "outputs": [
    {
     "data": {
      "text/plain": [
       "['hello', 'world']"
      ]
     },
     "execution_count": 48,
     "metadata": {},
     "output_type": "execute_result"
    }
   ],
   "source": [
    "filter_long_word(5,'hello world')"
   ]
  },
  {
   "cell_type": "markdown",
   "metadata": {},
   "source": [
    "2.1 Write a Python program using function concept that maps list of words into list of integers representing the lengths of the corresponding words\n",
    "\n",
    "**Hints**: if a list [ab,cde,erty] is passed on to the python function output come as [2,3,4]. Here 2,3,4 are the lengths of the words in the list"
   ]
  },
  {
   "cell_type": "code",
   "execution_count": 61,
   "metadata": {},
   "outputs": [],
   "source": [
    "solution_1\n",
    "def len_word_in_list(a):\n",
    "    list_integer = []\n",
    "    for i in a:\n",
    "        list_integer.append(len(i))\n",
    "    return list_integer"
   ]
  },
  {
   "cell_type": "code",
   "execution_count": 62,
   "metadata": {},
   "outputs": [
    {
     "data": {
      "text/plain": [
       "[5, 5]"
      ]
     },
     "execution_count": 62,
     "metadata": {},
     "output_type": "execute_result"
    }
   ],
   "source": [
    "len_word_in_list(['hello', 'world'])"
   ]
  },
  {
   "cell_type": "code",
   "execution_count": 63,
   "metadata": {},
   "outputs": [
    {
     "name": "stdout",
     "output_type": "stream",
     "text": [
      "Enter string: tran tu van\n"
     ]
    }
   ],
   "source": [
    "solution_2\n",
    "list_integer = [len(i) for i in input('Enter string: ').split()]"
   ]
  },
  {
   "cell_type": "code",
   "execution_count": 64,
   "metadata": {},
   "outputs": [
    {
     "data": {
      "text/plain": [
       "[4, 2, 3]"
      ]
     },
     "execution_count": 64,
     "metadata": {},
     "output_type": "execute_result"
    }
   ],
   "source": [
    "list_integer"
   ]
  },
  {
   "cell_type": "markdown",
   "metadata": {},
   "source": [
    "2.2 Write a Python program function which takes a character(i.e string of length 1) and returns True if it is a vowel, False otherwise."
   ]
  },
  {
   "cell_type": "code",
   "execution_count": null,
   "metadata": {},
   "outputs": [],
   "source": [
    "a = input('Enter 1 character: ')\n",
    "if a in ['a','e','i',]"
   ]
  }
 ],
 "metadata": {
  "kernelspec": {
   "display_name": "Python 3",
   "language": "python",
   "name": "python3"
  },
  "language_info": {
   "codemirror_mode": {
    "name": "ipython",
    "version": 3
   },
   "file_extension": ".py",
   "mimetype": "text/x-python",
   "name": "python",
   "nbconvert_exporter": "python",
   "pygments_lexer": "ipython3",
   "version": "3.7.9"
  }
 },
 "nbformat": 4,
 "nbformat_minor": 4
}
